{
 "cells": [
  {
   "cell_type": "code",
   "execution_count": 1,
   "metadata": {},
   "outputs": [
    {
     "name": "stdout",
     "output_type": "stream",
     "text": [
      "(100,)\n"
     ]
    },
    {
     "data": {
      "image/png": "[encoded data removed]",
      "text/plain": [
       "<Figure size 640x480 with 1 Axes>"
      ]
     },
     "metadata": {},
     "output_type": "display_data"
    }
   ],
   "source": [
    "import numpy as np\n",
    "import pandas as pd\n",
    "from matplotlib import pyplot as plt\n",
    "\n",
    "\n",
    "def generate_data(num_steps: int, period_array: np.array, phase_array:np.array, num_series = None) -> None:\n",
    "    '''Generate data for sine wave with noise.\n",
    "        Assume that the time interval is in days.\n",
    "\n",
    "        if num_series is not None then period_array and phase_array should be of length 1\n",
    "\n",
    "        Args:\n",
    "            num_steps: number of time steps in the sine wave \n",
    "            period_array: periods of the sine wave (days)\n",
    "            phase_array: phases of the sine wave (radians)\n",
    "\n",
    "        Returns:\n",
    "            Pandas DataFrame with the generated data\n",
    "        '''\n",
    "    if num_series is None:\n",
    "        num_series = len(period_array)\n",
    "        if len(phase_array) != num_series:\n",
    "            raise ValueError('period_array and phase_array must have the same length')\n",
    "    else:\n",
    "        if len(phase_array) != 1 and len(period_array) != 1:\n",
    "            raise ValueError('period_array and phase_array must have length 1')\n",
    "        phase_array = np.random.uniform(low=0, high=2*np.pi, size=num_series)\n",
    "        period_array = np.repeat(period_array, num_series)  \n",
    "        \n",
    "    x = np.arange(0, num_steps, dtype=float)\n",
    "    print (x.shape)\n",
    "\n",
    "    series_list = []\n",
    "    series_name = []\n",
    "    for i in range(num_series):\n",
    "        y = np.sin(2. * np.pi * x / period_array[i] + phase_array[i]) #+ np.random.normal(0, 0.1, x.shape)\n",
    "        ser = pd.Series(y, index=x)\n",
    "        series_list.append(ser)\n",
    "        series_name.append(f'y{i}')\n",
    "\n",
    "    df = pd.concat(series_list, axis=1)\n",
    "    df.columns = series_name\n",
    "\n",
    "    return df\n",
    "\n",
    "def plot_timeseries(df: pd.DataFrame, indx=0 ) -> None:\n",
    "    '''Plot the generated time series data.\n",
    "        Args:\n",
    "            df: Pandas DataFrame with the generated data\n",
    "            indx: index of the time series to plot\n",
    "        '''\n",
    "    df[f'y{indx}' ].plot(style='o')  \n",
    "\n",
    "    plt.show()\n",
    "\n",
    "num_series = 500\n",
    "num_steps = 100\n",
    "\n",
    "periods = np.random.uniform(40, 100, num_series)\n",
    "phases = np.random.uniform(0, 2*np.pi, num_series)\n",
    "dfSine = generate_data(num_steps, periods, phases, num_series=None)\n",
    "\n",
    "#periods = np.array([40])\n",
    "#phases = np.array([0.2])\n",
    "#dfSine = generate_data(num_steps, periods, phases, num_series=num_series)\n",
    "plot_timeseries(dfSine, indx=50)"
   ]
  },
  {
   "cell_type": "code",
   "execution_count": 2,
   "metadata": {},
   "outputs": [
    {
     "name": "stdout",
     "output_type": "stream",
     "text": [
      "feature amplitude percent_beyond_1_std   maximum max_slope    median  \\\n",
      "channel         0                    0         0         0         0   \n",
      "0         0.99998                 0.52  0.999997  0.134365 -0.109972   \n",
      "\n",
      "feature median_absolute_deviation percent_close_to_median   minimum      skew  \\\n",
      "channel                         0                       0         0         0   \n",
      "0                        0.722952                    0.13 -0.999962  0.111344   \n",
      "\n",
      "feature       std period_fast weighted_average  \n",
      "channel         0           0                0  \n",
      "0        0.721371   46.698113        -0.060869  \n"
     ]
    }
   ],
   "source": [
    "from cesium import featurize\n",
    "\n",
    "features_to_use = [\n",
    "    \"amplitude\",\n",
    "    \"percent_beyond_1_std\",\n",
    "    \"maximum\",\n",
    "    \"max_slope\",\n",
    "    \"median\",\n",
    "    \"median_absolute_deviation\",\n",
    "    \"percent_close_to_median\",\n",
    "    \"minimum\",\n",
    "    \"skew\",\n",
    "    \"std\",\n",
    "    \"period_fast\",\n",
    "    \"weighted_average\",\n",
    "]\n",
    "fset_cesium = featurize.featurize_time_series(\n",
    "    times=dfSine[f'y1'].index,\n",
    "    values=dfSine[f'y1' ].values,\n",
    "    errors=None,\n",
    "    features_to_use=features_to_use,\n",
    ")\n",
    "print(fset_cesium.head())"
   ]
  },
  {
   "cell_type": "code",
   "execution_count": null,
   "metadata": {},
   "outputs": [],
   "source": []
  }
 ],
 "metadata": {
  "kernelspec": {
   "display_name": "base",
   "language": "python",
   "name": "python3"
  },
  "language_info": {
   "codemirror_mode": {
    "name": "ipython",
    "version": 3
   },
   "file_extension": ".py",
   "mimetype": "text/x-python",
   "name": "python",
   "nbconvert_exporter": "python",
   "pygments_lexer": "ipython3",
   "version": "3.10.13"
  }
 },
 "nbformat": 4,
 "nbformat_minor": 2
}
