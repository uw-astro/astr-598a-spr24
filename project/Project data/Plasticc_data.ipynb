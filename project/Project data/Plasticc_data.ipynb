{
 "cells": [
  {
   "cell_type": "code",
   "execution_count": 5,
   "metadata": {},
   "outputs": [],
   "source": [
    "# read in data from PLASTICC and convert to a dictionary of lightcurves (pd.Series)\n",
    "# output lightcurves in the g band with >15 points\n",
    "import pandas as pd\n",
    "import pickle\n",
    "\n",
    "df = pd.read_csv('plasticc_train_lightcurves.csv')\n",
    "df_meta = pd.read_csv('plasticc_train_metadata.csv')\n",
    "df_names = pd.read_csv('plasticc_train_target_names.csv')"
   ]
  },
  {
   "cell_type": "code",
   "execution_count": 7,
   "metadata": {},
   "outputs": [
    {
     "name": "stdout",
     "output_type": "stream",
     "text": [
      "1135\n"
     ]
    }
   ],
   "source": [
    "# group lightcurves by object_id\n",
    "grouped = df.groupby('object_id')\n",
    "i = 0\n",
    "series_list = []\n",
    "series_names = []\n",
    "for group, data in grouped:\n",
    "    condition = (data['passband'] == 2) & (data['detected_bool'] == 1)\n",
    "    \n",
    "    flux = data.loc[condition, 'flux']\n",
    "    mjd = data.loc[condition, 'mjd']\n",
    "\n",
    "    ser = pd.Series(data=flux.values, index=mjd)\n",
    "    if (len(ser) > 15):\n",
    "        series_list.append(ser)\n",
    "        series_names.append(group)\n",
    "        i += 1\n",
    "      \n",
    "\n",
    "dataDict =  dict(zip(series_names, series_list))\n",
    "\n",
    "file_path = 'plasticc_lightcurves_g.pkl'\n",
    "with open(file_path, 'wb') as file:\n",
    "    pickle.dump(dataDict, file)\n",
    "\n",
    "df_selected = df_meta[df_meta['object_id'].isin(series_names)]\n",
    "file_path = 'plasticc_lightcurves_g_metadata.pkl'\n",
    "df_selected.to_pickle(file_path)\n",
    "\n",
    "print (len(dataDict))\n"
   ]
  },
  {
   "cell_type": "code",
   "execution_count": null,
   "metadata": {},
   "outputs": [],
   "source": []
  }
 ],
 "metadata": {
  "kernelspec": {
   "display_name": "tape",
   "language": "python",
   "name": "python3"
  },
  "language_info": {
   "codemirror_mode": {
    "name": "ipython",
    "version": 3
   },
   "file_extension": ".py",
   "mimetype": "text/x-python",
   "name": "python",
   "nbconvert_exporter": "python",
   "pygments_lexer": "ipython3",
   "version": "3.11.8"
  }
 },
 "nbformat": 4,
 "nbformat_minor": 2
}
